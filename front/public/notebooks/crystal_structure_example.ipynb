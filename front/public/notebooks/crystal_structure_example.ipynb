{
 "cells": [
  {
   "cell_type": "code",
   "execution_count": 1,
   "metadata": {},
   "outputs": [
    {
     "ename": "OSError",
     "evalue": "Povray command povray spacegroup-cosb3.ini 2> /dev/null failed with error code 1",
     "output_type": "error",
     "traceback": [
      "\u001b[1;31m---------------------------------------------------------------------------\u001b[0m",
      "\u001b[1;31mOSError\u001b[0m                                   Traceback (most recent call last)",
      "\u001b[1;32m<ipython-input-1-5d27b0cf746b>\u001b[0m in \u001b[0;36m<module>\u001b[1;34m\u001b[0m\n\u001b[0;32m     36\u001b[0m          \u001b[0mrotation\u001b[0m\u001b[1;33m=\u001b[0m\u001b[1;34m'90y'\u001b[0m\u001b[1;33m,\u001b[0m\u001b[1;33m\u001b[0m\u001b[1;33m\u001b[0m\u001b[0m\n\u001b[0;32m     37\u001b[0m          \u001b[0mbondlinewidth\u001b[0m\u001b[1;33m=\u001b[0m\u001b[1;36m0.07\u001b[0m\u001b[1;33m,\u001b[0m\u001b[1;33m\u001b[0m\u001b[1;33m\u001b[0m\u001b[0m\n\u001b[1;32m---> 38\u001b[1;33m          bondatoms=bondatoms)\n\u001b[0m",
      "\u001b[1;32m~\\Miniconda3\\envs\\arpes\\lib\\site-packages\\ase\\io\\formats.py\u001b[0m in \u001b[0;36mwrite\u001b[1;34m(filename, images, format, parallel, append, **kwargs)\u001b[0m\n\u001b[0;32m    403\u001b[0m \u001b[1;33m\u001b[0m\u001b[0m\n\u001b[0;32m    404\u001b[0m     _write(filename, fd, format, io, images, parallel=parallel, append=append,\n\u001b[1;32m--> 405\u001b[1;33m            **kwargs)\n\u001b[0m\u001b[0;32m    406\u001b[0m \u001b[1;33m\u001b[0m\u001b[0m\n\u001b[0;32m    407\u001b[0m \u001b[1;33m\u001b[0m\u001b[0m\n",
      "\u001b[1;32m~\\Miniconda3\\envs\\arpes\\lib\\site-packages\\ase\\io\\formats.py\u001b[0m in \u001b[0;36m_write\u001b[1;34m(filename, fd, format, io, images, parallel, append, **kwargs)\u001b[0m\n\u001b[0;32m    450\u001b[0m                              .format(format))\n\u001b[0;32m    451\u001b[0m         \u001b[1;32melse\u001b[0m\u001b[1;33m:\u001b[0m\u001b[1;33m\u001b[0m\u001b[1;33m\u001b[0m\u001b[0m\n\u001b[1;32m--> 452\u001b[1;33m             \u001b[0mio\u001b[0m\u001b[1;33m.\u001b[0m\u001b[0mwrite\u001b[0m\u001b[1;33m(\u001b[0m\u001b[0mfilename\u001b[0m\u001b[1;33m,\u001b[0m \u001b[0mimages\u001b[0m\u001b[1;33m,\u001b[0m \u001b[1;33m**\u001b[0m\u001b[0mkwargs\u001b[0m\u001b[1;33m)\u001b[0m\u001b[1;33m\u001b[0m\u001b[1;33m\u001b[0m\u001b[0m\n\u001b[0m\u001b[0;32m    453\u001b[0m \u001b[1;33m\u001b[0m\u001b[0m\n\u001b[0;32m    454\u001b[0m \u001b[1;33m\u001b[0m\u001b[0m\n",
      "\u001b[1;32m~\\Miniconda3\\envs\\arpes\\lib\\site-packages\\ase\\io\\pov.py\u001b[0m in \u001b[0;36mwrite_pov\u001b[1;34m(filename, atoms, run_povray, povray_path, stderr, extras, **parameters)\u001b[0m\n\u001b[0;32m    483\u001b[0m         \u001b[1;32mif\u001b[0m \u001b[0merrcode\u001b[0m \u001b[1;33m!=\u001b[0m \u001b[1;36m0\u001b[0m\u001b[1;33m:\u001b[0m\u001b[1;33m\u001b[0m\u001b[1;33m\u001b[0m\u001b[0m\n\u001b[0;32m    484\u001b[0m             raise OSError('Povray command ' + cmd +\n\u001b[1;32m--> 485\u001b[1;33m                           ' failed with error code %d' % errcode)\n\u001b[0m",
      "\u001b[1;31mOSError\u001b[0m: Povray command povray spacegroup-cosb3.ini 2> /dev/null failed with error code 1"
     ]
    }
   ],
   "source": [
    "import ase.io as io\n",
    "from ase.build import cut\n",
    "from ase.spacegroup import crystal\n",
    "\n",
    "a = 9.04\n",
    "skutterudite = crystal(('Co', 'Sb'),\n",
    "                       basis=[(0.25, 0.25, 0.25), (0.0, 0.335, 0.158)],\n",
    "                       spacegroup=204,\n",
    "                       cellpar=[a, a, a, 90, 90, 90])\n",
    "\n",
    "# Create a new atoms instance with Co at origo including all atoms on the\n",
    "# surface of the unit cell\n",
    "cosb3 = cut(skutterudite, origo=(0.25, 0.25, 0.25), extend=1.01)\n",
    "\n",
    "# Define the atomic bonds to show\n",
    "bondatoms = []\n",
    "symbols = cosb3.get_chemical_symbols()\n",
    "for i in range(len(cosb3)):\n",
    "    for j in range(i):\n",
    "        if (symbols[i] == symbols[j] == 'Co' and\n",
    "            cosb3.get_distance(i, j) < 4.53):\n",
    "            bondatoms.append((i, j))\n",
    "        elif (symbols[i] == symbols[j] == 'Sb' and\n",
    "              cosb3.get_distance(i, j) < 2.99):\n",
    "            bondatoms.append((i, j))\n",
    "\n",
    "# Create nice-looking image using povray\n",
    "io.write('spacegroup-cosb3.pov', cosb3,\n",
    "         transparent=True,\n",
    "         display=False,\n",
    "         run_povray=True,\n",
    "         camera_type='perspective',\n",
    "         background=(0, 0, 0, 1.),\n",
    "         canvas_width=1200,\n",
    "         radii=0.4,\n",
    "         rotation='90y',\n",
    "         bondlinewidth=0.07,\n",
    "         bondatoms=bondatoms)"
   ]
  },
  {
   "cell_type": "markdown",
   "metadata": {},
   "source": [
    "# POVRay Settings\n",
    "\n",
    "To get transparency modify pov ray .pov file to include\n",
    "\n",
    "```\n",
    "background {srgbt <0.00, 0.00, 0.00, 1.00>}\n",
    "```\n",
    "\n",
    "and the .ini file to contain\n",
    "\n",
    "```\n",
    "Output_Alpha=True\n",
    "```\n",
    "\n",
    "You can also adjust the .pov file to change the distance to the spotlight source, and adjust the diffuse lighting conditions on `ase3`."
   ]
  },
  {
   "cell_type": "code",
   "execution_count": 186,
   "metadata": {},
   "outputs": [
    {
     "data": {
      "text/plain": [
       "1532.112172063885"
      ]
     },
     "execution_count": 186,
     "metadata": {},
     "output_type": "execute_result"
    }
   ],
   "source": [
    "2400 / 1.5664649389"
   ]
  },
  {
   "cell_type": "code",
   "execution_count": 80,
   "metadata": {},
   "outputs": [],
   "source": [
    "from arpes.utilities.bz import hex_cell\n",
    "\n",
    "a = 5.761\n",
    "c = 12.178\n",
    "alloy = crystal(\n",
    "    symbols=['S', 'Nb', 'Fe', 'Nb'], \n",
    "    basis=[(1./3, 0, 3./8,), (1./3, 2./3, 0), (1./3, 2./3, 1./4), (0, 0, 0)], \n",
    "    cell=hex_cell(a=a, c=c), \n",
    "    spacegroup=182,\n",
    ")\n",
    "\n",
    "fenbs2 = cut(alloy, origo=(0, 0, 0.28), extend=(3.01, 3.01, 6.91), clength=2.1, tolerance=1)\n",
    "\n",
    "# Define the atomic bonds to show\n",
    "bondatoms = []\n",
    "symbols = fenbs2.get_chemical_symbols()\n",
    "for i in range(len(fenbs2)):\n",
    "    for j in range(i):\n",
    "        if (symbols[i] in {'Nb', 'S'} and symbols[j] in {'S', 'Nb'} and symbols[i] != symbols[j] and\n",
    "            fenbs2.get_distance(i, j) < 4):\n",
    "            bondatoms.append((i, j))\n",
    "\n",
    "# Create nice-looking image using povray\n",
    "io.write('spacegroup-fenbs2.pov', fenbs2,\n",
    "         transparent=False,\n",
    "         display=False,\n",
    "         run_povray=True,\n",
    "         camera_type='perspective',\n",
    "         canvas_width=1200,\n",
    "         radii=0.4,\n",
    "         rotation='5y,-80x',\n",
    "         bondlinewidth=0.07,\n",
    "         bondatoms=bondatoms)\n",
    "\n",
    "#view(alloy, viewer='x3d')"
   ]
  },
  {
   "cell_type": "code",
   "execution_count": 70,
   "metadata": {},
   "outputs": [],
   "source": [
    "from ase.build import graphene_nanoribbon\n",
    "graphene = "
   ]
  },
  {
   "cell_type": "code",
   "execution_count": 85,
   "metadata": {},
   "outputs": [],
   "source": [
    "a = 5.761\n",
    "c = 12.178\n",
    "graphene = graphene_nanoribbon(3, 3, sheet=True)\n",
    "overlayer = graphene.copy()\n",
    "\n",
    "\n",
    "# Define the atomic bonds to show\n",
    "bondatoms = []\n",
    "symbols = graphene.get_chemical_symbols()\n",
    "\n",
    "for i in range(len(graphene)):\n",
    "    for j in range(i):\n",
    "        if graphene.get_distance(i, j) < 1.5:\n",
    "            bondatoms.append((i, j))\n",
    "\n",
    "# Create nice-looking image using povray\n",
    "io.write('spacegroup-graphene.pov', graphene,\n",
    "         transparent=False,\n",
    "         display=False,\n",
    "         run_povray=True,\n",
    "         camera_type='perspective',\n",
    "         canvas_width=1200,\n",
    "         radii=0.4,\n",
    "         rotation='0y,-90x',\n",
    "         bondlinewidth=0.07,\n",
    "         bondatoms=bondatoms)\n",
    "\n",
    "#view(alloy, viewer='x3d')"
   ]
  },
  {
   "cell_type": "code",
   "execution_count": 183,
   "metadata": {},
   "outputs": [],
   "source": [
    "from ase.build import mx2, stack\n",
    "\n",
    "ws2 = mx2('WS2', size=(30, 30, 1))\n",
    "\n",
    "# Define the atomic bonds to show\n",
    "bondatoms = []\n",
    "symbols = ws2.get_chemical_symbols()\n",
    "\n",
    "ls = []\n",
    "for i in ws2:\n",
    "    ls.append(i.position)\n",
    "    \n",
    "ps = np.stack(ls)\n",
    "vs = squareform(pdist(ps))\n",
    "\n",
    "for i in range(vs.shape[0]):\n",
    "    for j in range(i):\n",
    "        if vs[i,j] < 3:\n",
    "            bondatoms.append((i, j))\n",
    "\n",
    "# Create nice-looking image using povray\n",
    "colors.jmol_colors[74] = (44. / 255, 132. / 255, 30. / 255) # W\n",
    "colors.jmol_colors[16] = (109. / 255, 193. / 255, 96. / 255)\n",
    "colors.cpk_colors[74] = (44. / 255, 132. / 255, 30. / 255) # W\n",
    "colors.cpk_colors[16] = (109. / 255, 193. / 255, 96. / 255)\n",
    "\n",
    "#colors.jmol_colors[74] = (229. / 255, 139. / 255, 22. / 255) # W\n",
    "#colors.jmol_colors[34] = (224. / 255, 169. / 255, 98. / 255) # W\n",
    "#colors.cpk_colors[74] = (229. / 255, 139. / 255, 22. / 255) # W\n",
    "#colors.cpk_colors[34] = (224. / 255, 169. / 255, 98. / 255) # W\n",
    "\n",
    "\n",
    "io.write('spacegroup-ws2.pov', ws2,\n",
    "         transparent=True,\n",
    "         display=False,\n",
    "         run_povray=False,\n",
    "         camera_type='orthographic',\n",
    "         canvas_width=1200,\n",
    "         background=(0, 0, 0, 1.,), # weird alpha convention\n",
    "         radii=0.4,\n",
    "         rotation='0y,0x',\n",
    "         bondlinewidth=0.07,\n",
    "         bondatoms=bondatoms)\n",
    "\n",
    "#view(alloy, viewer='x3d')\n",
    "\n",
    "# W 44, 132, 30\n",
    "# S 109, 193, 96\n",
    "\n",
    "# W 229, 139, 22\n",
    "# Se 224, 169, 98"
   ]
  },
  {
   "cell_type": "code",
   "execution_count": 174,
   "metadata": {},
   "outputs": [],
   "source": [
    "from ase.data import colors\n",
    "colors.jmol_colors = colors_copy"
   ]
  },
  {
   "cell_type": "code",
   "execution_count": 165,
   "metadata": {},
   "outputs": [
    {
     "data": {
      "text/plain": [
       "\u001b[0;31mSignature:\u001b[0m \u001b[0mio\u001b[0m\u001b[0;34m.\u001b[0m\u001b[0mwrite\u001b[0m\u001b[0;34m(\u001b[0m\u001b[0mfilename\u001b[0m\u001b[0;34m,\u001b[0m \u001b[0mimages\u001b[0m\u001b[0;34m,\u001b[0m \u001b[0mformat\u001b[0m\u001b[0;34m=\u001b[0m\u001b[0;32mNone\u001b[0m\u001b[0;34m,\u001b[0m \u001b[0mparallel\u001b[0m\u001b[0;34m=\u001b[0m\u001b[0;32mTrue\u001b[0m\u001b[0;34m,\u001b[0m \u001b[0mappend\u001b[0m\u001b[0;34m=\u001b[0m\u001b[0;32mFalse\u001b[0m\u001b[0;34m,\u001b[0m \u001b[0;34m**\u001b[0m\u001b[0mkwargs\u001b[0m\u001b[0;34m)\u001b[0m\u001b[0;34m\u001b[0m\u001b[0m\n",
       "\u001b[0;31mDocstring:\u001b[0m\n",
       "Write Atoms object(s) to file.\n",
       "\n",
       "filename: str or file\n",
       "    Name of the file to write to or a file descriptor.  The name '-'\n",
       "    means standard output.\n",
       "images: Atoms object or list of Atoms objects\n",
       "    A single Atoms object or a list of Atoms objects.\n",
       "format: str\n",
       "    Used to specify the file-format.  If not given, the\n",
       "    file-format will be taken from suffix of the filename.\n",
       "parallel: bool\n",
       "    Default is to write on master only.  Use parallel=False to write\n",
       "    from all slaves.\n",
       "append: bool\n",
       "    Default is to open files in 'w' or 'wb' mode, overwriting existing files.\n",
       "    In some cases opening the file in 'a' or 'ab' mode (appending) is usefull,\n",
       "    e.g. writing trajectories or saving multiple Atoms objects in one file.\n",
       "    WARNING: If the file format does not support multiple entries without\n",
       "    additional keywords/headers, files created using 'append=True'\n",
       "    might not be readable by any program! They will nevertheless be\n",
       "    written without error message.\n",
       "\n",
       "The use of additional keywords is format specific.\n",
       "\u001b[0;31mFile:\u001b[0m      ~/anaconda/envs/python_arpes/lib/python3.5/site-packages/ase/io/formats.py\n",
       "\u001b[0;31mType:\u001b[0m      function\n"
      ]
     },
     "metadata": {},
     "output_type": "display_data"
    }
   ],
   "source": [
    "io.write?"
   ]
  },
  {
   "cell_type": "code",
   "execution_count": 154,
   "metadata": {},
   "outputs": [],
   "source": [
    "from scipy.spatial.distance import pdist, squareform"
   ]
  },
  {
   "cell_type": "code",
   "execution_count": 155,
   "metadata": {},
   "outputs": [
    {
     "data": {
      "text/plain": [
       "array([[  0.        ,   2.43204132,   2.43204132, ...,  28.62      ,\n",
       "         30.26600114,  30.26600114],\n",
       "       [  2.43204132,   0.        ,   3.19      , ...,  27.09257509,\n",
       "         28.62      ,  28.79723077],\n",
       "       [  2.43204132,   3.19      ,   0.        , ...,  27.09257509,\n",
       "         28.79723077,  28.62      ],\n",
       "       ..., \n",
       "       [ 28.62      ,  27.09257509,  27.09257509, ...,   0.        ,\n",
       "          2.43204132,   2.43204132],\n",
       "       [ 30.26600114,  28.62      ,  28.79723077, ...,   2.43204132,\n",
       "          0.        ,   3.19      ],\n",
       "       [ 30.26600114,  28.79723077,  28.62      , ...,   2.43204132,\n",
       "          3.19      ,   0.        ]])"
      ]
     },
     "execution_count": 155,
     "metadata": {},
     "output_type": "execute_result"
    }
   ],
   "source": [
    "squareform(pdist(ps))"
   ]
  },
  {
   "cell_type": "code",
   "execution_count": 152,
   "metadata": {},
   "outputs": [
    {
     "data": {
      "text/plain": [
       "(300, 3)"
      ]
     },
     "execution_count": 152,
     "metadata": {},
     "output_type": "execute_result"
    }
   ],
   "source": [
    "ps.shape"
   ]
  },
  {
   "cell_type": "code",
   "execution_count": 134,
   "metadata": {},
   "outputs": [
    {
     "data": {
      "text/plain": [
       "<function numpy.core.multiarray.matmul>"
      ]
     },
     "execution_count": 134,
     "metadata": {},
     "output_type": "execute_result"
    }
   ],
   "source": [
    "np.matmul"
   ]
  },
  {
   "cell_type": "code",
   "execution_count": 15,
   "metadata": {},
   "outputs": [
    {
     "data": {
      "image/png": "[encoded data removed]",
      "text/plain": [
       "<Figure size 1080x360 with 3 Axes>"
      ]
     },
     "metadata": {
      "needs_background": "light"
     },
     "output_type": "display_data"
    }
   ],
   "source": [
    "fig, ax = plt.subplots(1, 3, figsize=(15, 5,))\n",
    "\n",
    "arr = xr.DataArray(np.linspace(0, 1, 100), coords={'x': np.linspace(0, 0.1, 100)}, dims=['x'])\n",
    "arr.plot(ax=ax[0])\n",
    "\n",
    "copied = arr.copy(deep=True)\n",
    "copied.coords['x'] = copied.coords['x'] + 0.05\n",
    "copied.plot(ax=ax[1])\n",
    "\n",
    "arr.plot(ax=ax[2])\n",
    "for axi in ax:\n",
    "    axi.set_xlim([0, 0.15])\n",
    "    axi.set_ylim([0, 1])"
   ]
  },
  {
   "cell_type": "code",
   "execution_count": null,
   "metadata": {},
   "outputs": [],
   "source": [
    "fig, ax = plt.subplots(1, 3, figsize=(15, 5,))\n",
    "\n",
    "arr = xr.DataArray(np.linspace(0, 1, 100), coords={'x': np.linspace(0, 0.1, 100)}, dims=['x'])\n",
    "arr.plot(ax=ax[0])\n",
    "\n",
    "copied = arr.copy(deep=True)\n",
    "copied.coords['x'] += 0.05\n",
    "copied.plot(ax=ax[1])\n",
    "\n",
    "arr.plot(ax=ax[2])"
   ]
  }
 ],
 "metadata": {
  "kernelspec": {
   "display_name": "Python 3",
   "language": "python",
   "name": "python3"
  },
  "language_info": {
   "codemirror_mode": {
    "name": "ipython",
    "version": 3
   },
   "file_extension": ".py",
   "mimetype": "text/x-python",
   "name": "python",
   "nbconvert_exporter": "python",
   "pygments_lexer": "ipython3",
   "version": "3.7.4"
  }
 },
 "nbformat": 4,
 "nbformat_minor": 4
}
